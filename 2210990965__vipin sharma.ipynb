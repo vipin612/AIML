{
  "metadata": {
    "kernelspec": {
      "name": "python",
      "display_name": "Python (Pyodide)",
      "language": "python"
    },
    "language_info": {
      "codemirror_mode": {
        "name": "python",
        "version": 3
      },
      "file_extension": ".py",
      "mimetype": "text/x-python",
      "name": "python",
      "nbconvert_exporter": "python",
      "pygments_lexer": "ipython3",
      "version": "3.8"
    }
  },
  "nbformat_minor": 4,
  "nbformat": 4,
  "cells": [
    {
      "cell_type": "code",
      "source": "import pandas as pd\ndf = pd.read_csv(\"file1.csv\")\ndf",
      "metadata": {
        "trusted": true
      },
      "outputs": [
        {
          "execution_count": 1,
          "output_type": "execute_result",
          "data": {
            "text/plain": "                                                Address    Lot AM or PM  \\\n0     16629 Pace Camp Apt. 448\\nAlexisborough, NE 77...  46 in       PM   \n1     9374 Jasmine Spurs Suite 508\\nSouth John, TN 8...  28 rn       PM   \n2                      Unit 0065 Box 5052\\nDPO AP 27450  94 vE       PM   \n3                 7780 Julia Fords\\nNew Stacy, WA 45798  36 vm       PM   \n4     23012 Munoz Drive Suite 337\\nNew Cynthia, TX 5...  20 IE       AM   \n...                                                 ...    ...      ...   \n9995      966 Castaneda Locks\\nWest Juliafurt, CO 96415  92 XI       PM   \n9996  832 Curtis Dam Suite 785\\nNorth Edwardburgh, T...  41 JY       AM   \n9997              Unit 4434 Box 6343\\nDPO AE 28026-0283  74 Zh       AM   \n9998               0096 English Rest\\nRoystad, IA 12457  74 cL       PM   \n9999     40674 Barrett Stravenue\\nGrimesville, WI 79682  64 Hr       AM   \n\n                                           Browser Info  \\\n0     Opera/9.56.(X11; Linux x86_64; sl-SI) Presto/2...   \n1     Opera/8.93.(Windows 98; Win 9x 4.90; en-US) Pr...   \n2     Mozilla/5.0 (compatible; MSIE 9.0; Windows NT ...   \n3     Mozilla/5.0 (Macintosh; Intel Mac OS X 10_8_0 ...   \n4     Opera/9.58.(X11; Linux x86_64; it-IT) Presto/2...   \n...                                                 ...   \n9995  Mozilla/5.0 (Windows NT 5.1) AppleWebKit/5352 ...   \n9996  Mozilla/5.0 (compatible; MSIE 9.0; Windows NT ...   \n9997  Mozilla/5.0 (Macintosh; U; Intel Mac OS X 10_7...   \n9998  Mozilla/5.0 (Macintosh; Intel Mac OS X 10_8_8;...   \n9999  Mozilla/5.0 (X11; Linux i686; rv:1.9.5.20) Gec...   \n\n                              Company       Credit Card CC Exp Date  \\\n0                     Martinez-Herman  6011929061123406       02/20   \n1     Fletcher, Richards and Whitaker  3337758169645356       11/18   \n2          Simpson, Williams and Pham      675957666125       08/19   \n3     Williams, Marshall and Buchanan  6011578504430710       02/24   \n4           Brown, Watson and Andrews  6011456623207998       10/25   \n...                               ...               ...         ...   \n9995                    Randall-Sloan   342945015358701       03/22   \n9996         Hale, Collins and Wilson   210033169205009       07/25   \n9997                     Anderson Ltd  6011539787356311       05/21   \n9998                         Cook Inc   180003348082930       11/17   \n9999                       Greene Inc  4139972901927273       02/19   \n\n      CC Security Code                  CC Provider  \\\n0                  900                 JCB 16 digit   \n1                  561                   Mastercard   \n2                  699                 JCB 16 digit   \n3                  384                     Discover   \n4                  678  Diners Club / Carte Blanche   \n...                ...                          ...   \n9995               838                 JCB 15 digit   \n9996               207                 JCB 16 digit   \n9997                 1                VISA 16 digit   \n9998               987             American Express   \n9999               302                 JCB 15 digit   \n\n                               Email                                     Job  \\\n0                  pdunlap@yahoo.com  Scientist, product/process development   \n1                 anthony41@reed.com                       Drilling engineer   \n2     amymiller@morales-harrison.com                Customer service manager   \n3        brent16@olson-robinson.info                       Drilling engineer   \n4        christopherwright@gmail.com                             Fine artist   \n...                              ...                                     ...   \n9995          iscott@wade-garner.com                              Printmaker   \n9996              mary85@hotmail.com                         Energy engineer   \n9997               tyler16@gmail.com                      Veterinary surgeon   \n9998         elizabethmoore@reid.net                Local government officer   \n9999           rachelford@vaughn.com                  Embryologist, clinical   \n\n           IP Address Language  Purchase Price  \n0     149.146.147.205       el           98.14  \n1        15.160.41.51       fr           70.73  \n2      132.207.160.22       de            0.95  \n3        30.250.74.19       es           78.04  \n4        24.140.33.94       es           77.82  \n...               ...      ...             ...  \n9995    29.73.197.114       it           82.21  \n9996   121.133.168.51       pt           25.63  \n9997    156.210.0.254       el           83.98  \n9998     55.78.26.143       es           38.84  \n9999  176.119.198.199       el           67.59  \n\n[10000 rows x 14 columns]",
            "text/html": "<div>\n<style scoped>\n    .dataframe tbody tr th:only-of-type {\n        vertical-align: middle;\n    }\n\n    .dataframe tbody tr th {\n        vertical-align: top;\n    }\n\n    .dataframe thead th {\n        text-align: right;\n    }\n</style>\n<table border=\"1\" class=\"dataframe\">\n  <thead>\n    <tr style=\"text-align: right;\">\n      <th></th>\n      <th>Address</th>\n      <th>Lot</th>\n      <th>AM or PM</th>\n      <th>Browser Info</th>\n      <th>Company</th>\n      <th>Credit Card</th>\n      <th>CC Exp Date</th>\n      <th>CC Security Code</th>\n      <th>CC Provider</th>\n      <th>Email</th>\n      <th>Job</th>\n      <th>IP Address</th>\n      <th>Language</th>\n      <th>Purchase Price</th>\n    </tr>\n  </thead>\n  <tbody>\n    <tr>\n      <th>0</th>\n      <td>16629 Pace Camp Apt. 448\\nAlexisborough, NE 77...</td>\n      <td>46 in</td>\n      <td>PM</td>\n      <td>Opera/9.56.(X11; Linux x86_64; sl-SI) Presto/2...</td>\n      <td>Martinez-Herman</td>\n      <td>6011929061123406</td>\n      <td>02/20</td>\n      <td>900</td>\n      <td>JCB 16 digit</td>\n      <td>pdunlap@yahoo.com</td>\n      <td>Scientist, product/process development</td>\n      <td>149.146.147.205</td>\n      <td>el</td>\n      <td>98.14</td>\n    </tr>\n    <tr>\n      <th>1</th>\n      <td>9374 Jasmine Spurs Suite 508\\nSouth John, TN 8...</td>\n      <td>28 rn</td>\n      <td>PM</td>\n      <td>Opera/8.93.(Windows 98; Win 9x 4.90; en-US) Pr...</td>\n      <td>Fletcher, Richards and Whitaker</td>\n      <td>3337758169645356</td>\n      <td>11/18</td>\n      <td>561</td>\n      <td>Mastercard</td>\n      <td>anthony41@reed.com</td>\n      <td>Drilling engineer</td>\n      <td>15.160.41.51</td>\n      <td>fr</td>\n      <td>70.73</td>\n    </tr>\n    <tr>\n      <th>2</th>\n      <td>Unit 0065 Box 5052\\nDPO AP 27450</td>\n      <td>94 vE</td>\n      <td>PM</td>\n      <td>Mozilla/5.0 (compatible; MSIE 9.0; Windows NT ...</td>\n      <td>Simpson, Williams and Pham</td>\n      <td>675957666125</td>\n      <td>08/19</td>\n      <td>699</td>\n      <td>JCB 16 digit</td>\n      <td>amymiller@morales-harrison.com</td>\n      <td>Customer service manager</td>\n      <td>132.207.160.22</td>\n      <td>de</td>\n      <td>0.95</td>\n    </tr>\n    <tr>\n      <th>3</th>\n      <td>7780 Julia Fords\\nNew Stacy, WA 45798</td>\n      <td>36 vm</td>\n      <td>PM</td>\n      <td>Mozilla/5.0 (Macintosh; Intel Mac OS X 10_8_0 ...</td>\n      <td>Williams, Marshall and Buchanan</td>\n      <td>6011578504430710</td>\n      <td>02/24</td>\n      <td>384</td>\n      <td>Discover</td>\n      <td>brent16@olson-robinson.info</td>\n      <td>Drilling engineer</td>\n      <td>30.250.74.19</td>\n      <td>es</td>\n      <td>78.04</td>\n    </tr>\n    <tr>\n      <th>4</th>\n      <td>23012 Munoz Drive Suite 337\\nNew Cynthia, TX 5...</td>\n      <td>20 IE</td>\n      <td>AM</td>\n      <td>Opera/9.58.(X11; Linux x86_64; it-IT) Presto/2...</td>\n      <td>Brown, Watson and Andrews</td>\n      <td>6011456623207998</td>\n      <td>10/25</td>\n      <td>678</td>\n      <td>Diners Club / Carte Blanche</td>\n      <td>christopherwright@gmail.com</td>\n      <td>Fine artist</td>\n      <td>24.140.33.94</td>\n      <td>es</td>\n      <td>77.82</td>\n    </tr>\n    <tr>\n      <th>...</th>\n      <td>...</td>\n      <td>...</td>\n      <td>...</td>\n      <td>...</td>\n      <td>...</td>\n      <td>...</td>\n      <td>...</td>\n      <td>...</td>\n      <td>...</td>\n      <td>...</td>\n      <td>...</td>\n      <td>...</td>\n      <td>...</td>\n      <td>...</td>\n    </tr>\n    <tr>\n      <th>9995</th>\n      <td>966 Castaneda Locks\\nWest Juliafurt, CO 96415</td>\n      <td>92 XI</td>\n      <td>PM</td>\n      <td>Mozilla/5.0 (Windows NT 5.1) AppleWebKit/5352 ...</td>\n      <td>Randall-Sloan</td>\n      <td>342945015358701</td>\n      <td>03/22</td>\n      <td>838</td>\n      <td>JCB 15 digit</td>\n      <td>iscott@wade-garner.com</td>\n      <td>Printmaker</td>\n      <td>29.73.197.114</td>\n      <td>it</td>\n      <td>82.21</td>\n    </tr>\n    <tr>\n      <th>9996</th>\n      <td>832 Curtis Dam Suite 785\\nNorth Edwardburgh, T...</td>\n      <td>41 JY</td>\n      <td>AM</td>\n      <td>Mozilla/5.0 (compatible; MSIE 9.0; Windows NT ...</td>\n      <td>Hale, Collins and Wilson</td>\n      <td>210033169205009</td>\n      <td>07/25</td>\n      <td>207</td>\n      <td>JCB 16 digit</td>\n      <td>mary85@hotmail.com</td>\n      <td>Energy engineer</td>\n      <td>121.133.168.51</td>\n      <td>pt</td>\n      <td>25.63</td>\n    </tr>\n    <tr>\n      <th>9997</th>\n      <td>Unit 4434 Box 6343\\nDPO AE 28026-0283</td>\n      <td>74 Zh</td>\n      <td>AM</td>\n      <td>Mozilla/5.0 (Macintosh; U; Intel Mac OS X 10_7...</td>\n      <td>Anderson Ltd</td>\n      <td>6011539787356311</td>\n      <td>05/21</td>\n      <td>1</td>\n      <td>VISA 16 digit</td>\n      <td>tyler16@gmail.com</td>\n      <td>Veterinary surgeon</td>\n      <td>156.210.0.254</td>\n      <td>el</td>\n      <td>83.98</td>\n    </tr>\n    <tr>\n      <th>9998</th>\n      <td>0096 English Rest\\nRoystad, IA 12457</td>\n      <td>74 cL</td>\n      <td>PM</td>\n      <td>Mozilla/5.0 (Macintosh; Intel Mac OS X 10_8_8;...</td>\n      <td>Cook Inc</td>\n      <td>180003348082930</td>\n      <td>11/17</td>\n      <td>987</td>\n      <td>American Express</td>\n      <td>elizabethmoore@reid.net</td>\n      <td>Local government officer</td>\n      <td>55.78.26.143</td>\n      <td>es</td>\n      <td>38.84</td>\n    </tr>\n    <tr>\n      <th>9999</th>\n      <td>40674 Barrett Stravenue\\nGrimesville, WI 79682</td>\n      <td>64 Hr</td>\n      <td>AM</td>\n      <td>Mozilla/5.0 (X11; Linux i686; rv:1.9.5.20) Gec...</td>\n      <td>Greene Inc</td>\n      <td>4139972901927273</td>\n      <td>02/19</td>\n      <td>302</td>\n      <td>JCB 15 digit</td>\n      <td>rachelford@vaughn.com</td>\n      <td>Embryologist, clinical</td>\n      <td>176.119.198.199</td>\n      <td>el</td>\n      <td>67.59</td>\n    </tr>\n  </tbody>\n</table>\n<p>10000 rows × 14 columns</p>\n</div>"
          },
          "metadata": {}
        }
      ],
      "execution_count": 1
    },
    {
      "cell_type": "code",
      "source": "df.head(10)",
      "metadata": {
        "trusted": true
      },
      "outputs": [
        {
          "execution_count": 2,
          "output_type": "execute_result",
          "data": {
            "text/plain": "                                             Address    Lot AM or PM  \\\n0  16629 Pace Camp Apt. 448\\nAlexisborough, NE 77...  46 in       PM   \n1  9374 Jasmine Spurs Suite 508\\nSouth John, TN 8...  28 rn       PM   \n2                   Unit 0065 Box 5052\\nDPO AP 27450  94 vE       PM   \n3              7780 Julia Fords\\nNew Stacy, WA 45798  36 vm       PM   \n4  23012 Munoz Drive Suite 337\\nNew Cynthia, TX 5...  20 IE       AM   \n5  7502 Powell Mission Apt. 768\\nTravisland, VA 3...  21 XT       PM   \n6     93971 Conway Causeway\\nAndersonburgh, AZ 75107  96 Xt       AM   \n7  260 Rachel Plains Suite 366\\nCastroberg, WV 24...  96 pG       PM   \n8            2129 Dylan Burg\\nNew Michelle, ME 28650  45 JN       PM   \n9    3795 Dawson Extensions\\nLake Tinafort, ID 88739  15 Ug       AM   \n\n                                        Browser Info  \\\n0  Opera/9.56.(X11; Linux x86_64; sl-SI) Presto/2...   \n1  Opera/8.93.(Windows 98; Win 9x 4.90; en-US) Pr...   \n2  Mozilla/5.0 (compatible; MSIE 9.0; Windows NT ...   \n3  Mozilla/5.0 (Macintosh; Intel Mac OS X 10_8_0 ...   \n4  Opera/9.58.(X11; Linux x86_64; it-IT) Presto/2...   \n5  Mozilla/5.0 (Macintosh; U; PPC Mac OS X 10_8_5...   \n6  Mozilla/5.0 (compatible; MSIE 7.0; Windows NT ...   \n7  Mozilla/5.0 (X11; Linux i686) AppleWebKit/5350...   \n8  Mozilla/5.0 (Macintosh; U; Intel Mac OS X 10_7...   \n9  Mozilla/5.0 (X11; Linux i686; rv:1.9.7.20) Gec...   \n\n                           Company       Credit Card CC Exp Date  \\\n0                  Martinez-Herman  6011929061123406       02/20   \n1  Fletcher, Richards and Whitaker  3337758169645356       11/18   \n2       Simpson, Williams and Pham      675957666125       08/19   \n3  Williams, Marshall and Buchanan  6011578504430710       02/24   \n4        Brown, Watson and Andrews  6011456623207998       10/25   \n5                   Silva-Anderson    30246185196287       07/25   \n6                  Gibson and Sons  6011398782655569       07/24   \n7                 Marshall-Collins      561252141909       06/25   \n8                Galloway and Sons   180041795790001       04/24   \n9     Rivera, Buchanan and Ramirez     4396283918371       01/17   \n\n   CC Security Code                  CC Provider  \\\n0               900                 JCB 16 digit   \n1               561                   Mastercard   \n2               699                 JCB 16 digit   \n3               384                     Discover   \n4               678  Diners Club / Carte Blanche   \n5              7169                     Discover   \n6               714                VISA 16 digit   \n7               256                VISA 13 digit   \n8               899                 JCB 16 digit   \n9               931             American Express   \n\n                            Email                                     Job  \\\n0               pdunlap@yahoo.com  Scientist, product/process development   \n1              anthony41@reed.com                       Drilling engineer   \n2  amymiller@morales-harrison.com                Customer service manager   \n3     brent16@olson-robinson.info                       Drilling engineer   \n4     christopherwright@gmail.com                             Fine artist   \n5               ynguyen@gmail.com                       Fish farm manager   \n6              olivia04@yahoo.com                                  Dancer   \n7            phillip48@parks.info                         Event organiser   \n8            kdavis@rasmussen.com                       Financial manager   \n9        qcoleman@hunt-huerta.com                      Forensic scientist   \n\n        IP Address Language  Purchase Price  \n0  149.146.147.205       el           98.14  \n1     15.160.41.51       fr           70.73  \n2   132.207.160.22       de            0.95  \n3     30.250.74.19       es           78.04  \n4     24.140.33.94       es           77.82  \n5    55.96.152.147       ru           25.15  \n6   127.252.144.18       de           88.56  \n7   224.247.97.150       pt           44.25  \n8  146.234.201.229       ru           59.54  \n9    236.198.199.8       zh           95.63  ",
            "text/html": "<div>\n<style scoped>\n    .dataframe tbody tr th:only-of-type {\n        vertical-align: middle;\n    }\n\n    .dataframe tbody tr th {\n        vertical-align: top;\n    }\n\n    .dataframe thead th {\n        text-align: right;\n    }\n</style>\n<table border=\"1\" class=\"dataframe\">\n  <thead>\n    <tr style=\"text-align: right;\">\n      <th></th>\n      <th>Address</th>\n      <th>Lot</th>\n      <th>AM or PM</th>\n      <th>Browser Info</th>\n      <th>Company</th>\n      <th>Credit Card</th>\n      <th>CC Exp Date</th>\n      <th>CC Security Code</th>\n      <th>CC Provider</th>\n      <th>Email</th>\n      <th>Job</th>\n      <th>IP Address</th>\n      <th>Language</th>\n      <th>Purchase Price</th>\n    </tr>\n  </thead>\n  <tbody>\n    <tr>\n      <th>0</th>\n      <td>16629 Pace Camp Apt. 448\\nAlexisborough, NE 77...</td>\n      <td>46 in</td>\n      <td>PM</td>\n      <td>Opera/9.56.(X11; Linux x86_64; sl-SI) Presto/2...</td>\n      <td>Martinez-Herman</td>\n      <td>6011929061123406</td>\n      <td>02/20</td>\n      <td>900</td>\n      <td>JCB 16 digit</td>\n      <td>pdunlap@yahoo.com</td>\n      <td>Scientist, product/process development</td>\n      <td>149.146.147.205</td>\n      <td>el</td>\n      <td>98.14</td>\n    </tr>\n    <tr>\n      <th>1</th>\n      <td>9374 Jasmine Spurs Suite 508\\nSouth John, TN 8...</td>\n      <td>28 rn</td>\n      <td>PM</td>\n      <td>Opera/8.93.(Windows 98; Win 9x 4.90; en-US) Pr...</td>\n      <td>Fletcher, Richards and Whitaker</td>\n      <td>3337758169645356</td>\n      <td>11/18</td>\n      <td>561</td>\n      <td>Mastercard</td>\n      <td>anthony41@reed.com</td>\n      <td>Drilling engineer</td>\n      <td>15.160.41.51</td>\n      <td>fr</td>\n      <td>70.73</td>\n    </tr>\n    <tr>\n      <th>2</th>\n      <td>Unit 0065 Box 5052\\nDPO AP 27450</td>\n      <td>94 vE</td>\n      <td>PM</td>\n      <td>Mozilla/5.0 (compatible; MSIE 9.0; Windows NT ...</td>\n      <td>Simpson, Williams and Pham</td>\n      <td>675957666125</td>\n      <td>08/19</td>\n      <td>699</td>\n      <td>JCB 16 digit</td>\n      <td>amymiller@morales-harrison.com</td>\n      <td>Customer service manager</td>\n      <td>132.207.160.22</td>\n      <td>de</td>\n      <td>0.95</td>\n    </tr>\n    <tr>\n      <th>3</th>\n      <td>7780 Julia Fords\\nNew Stacy, WA 45798</td>\n      <td>36 vm</td>\n      <td>PM</td>\n      <td>Mozilla/5.0 (Macintosh; Intel Mac OS X 10_8_0 ...</td>\n      <td>Williams, Marshall and Buchanan</td>\n      <td>6011578504430710</td>\n      <td>02/24</td>\n      <td>384</td>\n      <td>Discover</td>\n      <td>brent16@olson-robinson.info</td>\n      <td>Drilling engineer</td>\n      <td>30.250.74.19</td>\n      <td>es</td>\n      <td>78.04</td>\n    </tr>\n    <tr>\n      <th>4</th>\n      <td>23012 Munoz Drive Suite 337\\nNew Cynthia, TX 5...</td>\n      <td>20 IE</td>\n      <td>AM</td>\n      <td>Opera/9.58.(X11; Linux x86_64; it-IT) Presto/2...</td>\n      <td>Brown, Watson and Andrews</td>\n      <td>6011456623207998</td>\n      <td>10/25</td>\n      <td>678</td>\n      <td>Diners Club / Carte Blanche</td>\n      <td>christopherwright@gmail.com</td>\n      <td>Fine artist</td>\n      <td>24.140.33.94</td>\n      <td>es</td>\n      <td>77.82</td>\n    </tr>\n    <tr>\n      <th>5</th>\n      <td>7502 Powell Mission Apt. 768\\nTravisland, VA 3...</td>\n      <td>21 XT</td>\n      <td>PM</td>\n      <td>Mozilla/5.0 (Macintosh; U; PPC Mac OS X 10_8_5...</td>\n      <td>Silva-Anderson</td>\n      <td>30246185196287</td>\n      <td>07/25</td>\n      <td>7169</td>\n      <td>Discover</td>\n      <td>ynguyen@gmail.com</td>\n      <td>Fish farm manager</td>\n      <td>55.96.152.147</td>\n      <td>ru</td>\n      <td>25.15</td>\n    </tr>\n    <tr>\n      <th>6</th>\n      <td>93971 Conway Causeway\\nAndersonburgh, AZ 75107</td>\n      <td>96 Xt</td>\n      <td>AM</td>\n      <td>Mozilla/5.0 (compatible; MSIE 7.0; Windows NT ...</td>\n      <td>Gibson and Sons</td>\n      <td>6011398782655569</td>\n      <td>07/24</td>\n      <td>714</td>\n      <td>VISA 16 digit</td>\n      <td>olivia04@yahoo.com</td>\n      <td>Dancer</td>\n      <td>127.252.144.18</td>\n      <td>de</td>\n      <td>88.56</td>\n    </tr>\n    <tr>\n      <th>7</th>\n      <td>260 Rachel Plains Suite 366\\nCastroberg, WV 24...</td>\n      <td>96 pG</td>\n      <td>PM</td>\n      <td>Mozilla/5.0 (X11; Linux i686) AppleWebKit/5350...</td>\n      <td>Marshall-Collins</td>\n      <td>561252141909</td>\n      <td>06/25</td>\n      <td>256</td>\n      <td>VISA 13 digit</td>\n      <td>phillip48@parks.info</td>\n      <td>Event organiser</td>\n      <td>224.247.97.150</td>\n      <td>pt</td>\n      <td>44.25</td>\n    </tr>\n    <tr>\n      <th>8</th>\n      <td>2129 Dylan Burg\\nNew Michelle, ME 28650</td>\n      <td>45 JN</td>\n      <td>PM</td>\n      <td>Mozilla/5.0 (Macintosh; U; Intel Mac OS X 10_7...</td>\n      <td>Galloway and Sons</td>\n      <td>180041795790001</td>\n      <td>04/24</td>\n      <td>899</td>\n      <td>JCB 16 digit</td>\n      <td>kdavis@rasmussen.com</td>\n      <td>Financial manager</td>\n      <td>146.234.201.229</td>\n      <td>ru</td>\n      <td>59.54</td>\n    </tr>\n    <tr>\n      <th>9</th>\n      <td>3795 Dawson Extensions\\nLake Tinafort, ID 88739</td>\n      <td>15 Ug</td>\n      <td>AM</td>\n      <td>Mozilla/5.0 (X11; Linux i686; rv:1.9.7.20) Gec...</td>\n      <td>Rivera, Buchanan and Ramirez</td>\n      <td>4396283918371</td>\n      <td>01/17</td>\n      <td>931</td>\n      <td>American Express</td>\n      <td>qcoleman@hunt-huerta.com</td>\n      <td>Forensic scientist</td>\n      <td>236.198.199.8</td>\n      <td>zh</td>\n      <td>95.63</td>\n    </tr>\n  </tbody>\n</table>\n</div>"
          },
          "metadata": {}
        }
      ],
      "execution_count": 2
    },
    {
      "cell_type": "code",
      "source": "df.tail(10)",
      "metadata": {
        "trusted": true
      },
      "outputs": [
        {
          "execution_count": 3,
          "output_type": "execute_result",
          "data": {
            "text/plain": "                                                Address    Lot AM or PM  \\\n9990  75731 Molly Springs\\nWest Danielle, VT 96934-5102  93 ty       PM   \n9991              PSC 8165, Box 8498\\nAPO AP 60327-0346  50 dA       AM   \n9992  885 Allen Mountains Apt. 230\\nWallhaven, LA 16995  40 vH       PM   \n9993  7555 Larson Locks Suite 229\\nEllisburgh, MA 34...  72 jg       PM   \n9994       6276 Rojas Hollow\\nLake Louis, WY 56410-7837  93 Ex       PM   \n9995      966 Castaneda Locks\\nWest Juliafurt, CO 96415  92 XI       PM   \n9996  832 Curtis Dam Suite 785\\nNorth Edwardburgh, T...  41 JY       AM   \n9997              Unit 4434 Box 6343\\nDPO AE 28026-0283  74 Zh       AM   \n9998               0096 English Rest\\nRoystad, IA 12457  74 cL       PM   \n9999     40674 Barrett Stravenue\\nGrimesville, WI 79682  64 Hr       AM   \n\n                                           Browser Info  \\\n9990  Mozilla/5.0 (Macintosh; Intel Mac OS X 10_7_4;...   \n9991  Mozilla/5.0 (compatible; MSIE 8.0; Windows NT ...   \n9992  Mozilla/5.0 (Macintosh; PPC Mac OS X 10_6_5) A...   \n9993  Mozilla/5.0 (Macintosh; U; Intel Mac OS X 10_8...   \n9994  Opera/9.68.(X11; Linux x86_64; sl-SI) Presto/2...   \n9995  Mozilla/5.0 (Windows NT 5.1) AppleWebKit/5352 ...   \n9996  Mozilla/5.0 (compatible; MSIE 9.0; Windows NT ...   \n9997  Mozilla/5.0 (Macintosh; U; Intel Mac OS X 10_7...   \n9998  Mozilla/5.0 (Macintosh; Intel Mac OS X 10_8_8;...   \n9999  Mozilla/5.0 (X11; Linux i686; rv:1.9.5.20) Gec...   \n\n                         Company       Credit Card CC Exp Date  \\\n9990  Pace, Vazquez and Richards   869968197049750       04/24   \n9991                  Snyder Inc  4221582137197481       02/24   \n9992                   Wells Ltd  4664825258997302       10/20   \n9993              Colon and Sons    30025560104631       10/25   \n9994                Ritter-Smith  3112186784121077       01/25   \n9995               Randall-Sloan   342945015358701       03/22   \n9996    Hale, Collins and Wilson   210033169205009       07/25   \n9997                Anderson Ltd  6011539787356311       05/21   \n9998                    Cook Inc   180003348082930       11/17   \n9999                  Greene Inc  4139972901927273       02/19   \n\n      CC Security Code       CC Provider                        Email  \\\n9990               877      JCB 15 digit  andersonmichael@sherman.biz   \n9991               969           Voyager           kking@wise-liu.com   \n9992               431          Discover            bberry@wright.net   \n9993               629           Maestro    chelseawilliams@lopez.biz   \n9994              1823           Maestro           iroberts@gmail.com   \n9995               838      JCB 15 digit       iscott@wade-garner.com   \n9996               207      JCB 16 digit           mary85@hotmail.com   \n9997                 1     VISA 16 digit            tyler16@gmail.com   \n9998               987  American Express      elizabethmoore@reid.net   \n9999               302      JCB 15 digit        rachelford@vaughn.com   \n\n                               Job       IP Address Language  Purchase Price  \n9990           Early years teacher     54.170.3.185       ru           18.35  \n9991         IT sales professional    254.25.31.156       el           25.93  \n9992                  Set designer    174.173.51.32       de           67.96  \n9993  Designer, exhibition/display    177.46.82.128       el           65.61  \n9994     Education officer, museum    242.44.112.18       zh           31.85  \n9995                    Printmaker    29.73.197.114       it           82.21  \n9996               Energy engineer   121.133.168.51       pt           25.63  \n9997            Veterinary surgeon    156.210.0.254       el           83.98  \n9998      Local government officer     55.78.26.143       es           38.84  \n9999        Embryologist, clinical  176.119.198.199       el           67.59  ",
            "text/html": "<div>\n<style scoped>\n    .dataframe tbody tr th:only-of-type {\n        vertical-align: middle;\n    }\n\n    .dataframe tbody tr th {\n        vertical-align: top;\n    }\n\n    .dataframe thead th {\n        text-align: right;\n    }\n</style>\n<table border=\"1\" class=\"dataframe\">\n  <thead>\n    <tr style=\"text-align: right;\">\n      <th></th>\n      <th>Address</th>\n      <th>Lot</th>\n      <th>AM or PM</th>\n      <th>Browser Info</th>\n      <th>Company</th>\n      <th>Credit Card</th>\n      <th>CC Exp Date</th>\n      <th>CC Security Code</th>\n      <th>CC Provider</th>\n      <th>Email</th>\n      <th>Job</th>\n      <th>IP Address</th>\n      <th>Language</th>\n      <th>Purchase Price</th>\n    </tr>\n  </thead>\n  <tbody>\n    <tr>\n      <th>9990</th>\n      <td>75731 Molly Springs\\nWest Danielle, VT 96934-5102</td>\n      <td>93 ty</td>\n      <td>PM</td>\n      <td>Mozilla/5.0 (Macintosh; Intel Mac OS X 10_7_4;...</td>\n      <td>Pace, Vazquez and Richards</td>\n      <td>869968197049750</td>\n      <td>04/24</td>\n      <td>877</td>\n      <td>JCB 15 digit</td>\n      <td>andersonmichael@sherman.biz</td>\n      <td>Early years teacher</td>\n      <td>54.170.3.185</td>\n      <td>ru</td>\n      <td>18.35</td>\n    </tr>\n    <tr>\n      <th>9991</th>\n      <td>PSC 8165, Box 8498\\nAPO AP 60327-0346</td>\n      <td>50 dA</td>\n      <td>AM</td>\n      <td>Mozilla/5.0 (compatible; MSIE 8.0; Windows NT ...</td>\n      <td>Snyder Inc</td>\n      <td>4221582137197481</td>\n      <td>02/24</td>\n      <td>969</td>\n      <td>Voyager</td>\n      <td>kking@wise-liu.com</td>\n      <td>IT sales professional</td>\n      <td>254.25.31.156</td>\n      <td>el</td>\n      <td>25.93</td>\n    </tr>\n    <tr>\n      <th>9992</th>\n      <td>885 Allen Mountains Apt. 230\\nWallhaven, LA 16995</td>\n      <td>40 vH</td>\n      <td>PM</td>\n      <td>Mozilla/5.0 (Macintosh; PPC Mac OS X 10_6_5) A...</td>\n      <td>Wells Ltd</td>\n      <td>4664825258997302</td>\n      <td>10/20</td>\n      <td>431</td>\n      <td>Discover</td>\n      <td>bberry@wright.net</td>\n      <td>Set designer</td>\n      <td>174.173.51.32</td>\n      <td>de</td>\n      <td>67.96</td>\n    </tr>\n    <tr>\n      <th>9993</th>\n      <td>7555 Larson Locks Suite 229\\nEllisburgh, MA 34...</td>\n      <td>72 jg</td>\n      <td>PM</td>\n      <td>Mozilla/5.0 (Macintosh; U; Intel Mac OS X 10_8...</td>\n      <td>Colon and Sons</td>\n      <td>30025560104631</td>\n      <td>10/25</td>\n      <td>629</td>\n      <td>Maestro</td>\n      <td>chelseawilliams@lopez.biz</td>\n      <td>Designer, exhibition/display</td>\n      <td>177.46.82.128</td>\n      <td>el</td>\n      <td>65.61</td>\n    </tr>\n    <tr>\n      <th>9994</th>\n      <td>6276 Rojas Hollow\\nLake Louis, WY 56410-7837</td>\n      <td>93 Ex</td>\n      <td>PM</td>\n      <td>Opera/9.68.(X11; Linux x86_64; sl-SI) Presto/2...</td>\n      <td>Ritter-Smith</td>\n      <td>3112186784121077</td>\n      <td>01/25</td>\n      <td>1823</td>\n      <td>Maestro</td>\n      <td>iroberts@gmail.com</td>\n      <td>Education officer, museum</td>\n      <td>242.44.112.18</td>\n      <td>zh</td>\n      <td>31.85</td>\n    </tr>\n    <tr>\n      <th>9995</th>\n      <td>966 Castaneda Locks\\nWest Juliafurt, CO 96415</td>\n      <td>92 XI</td>\n      <td>PM</td>\n      <td>Mozilla/5.0 (Windows NT 5.1) AppleWebKit/5352 ...</td>\n      <td>Randall-Sloan</td>\n      <td>342945015358701</td>\n      <td>03/22</td>\n      <td>838</td>\n      <td>JCB 15 digit</td>\n      <td>iscott@wade-garner.com</td>\n      <td>Printmaker</td>\n      <td>29.73.197.114</td>\n      <td>it</td>\n      <td>82.21</td>\n    </tr>\n    <tr>\n      <th>9996</th>\n      <td>832 Curtis Dam Suite 785\\nNorth Edwardburgh, T...</td>\n      <td>41 JY</td>\n      <td>AM</td>\n      <td>Mozilla/5.0 (compatible; MSIE 9.0; Windows NT ...</td>\n      <td>Hale, Collins and Wilson</td>\n      <td>210033169205009</td>\n      <td>07/25</td>\n      <td>207</td>\n      <td>JCB 16 digit</td>\n      <td>mary85@hotmail.com</td>\n      <td>Energy engineer</td>\n      <td>121.133.168.51</td>\n      <td>pt</td>\n      <td>25.63</td>\n    </tr>\n    <tr>\n      <th>9997</th>\n      <td>Unit 4434 Box 6343\\nDPO AE 28026-0283</td>\n      <td>74 Zh</td>\n      <td>AM</td>\n      <td>Mozilla/5.0 (Macintosh; U; Intel Mac OS X 10_7...</td>\n      <td>Anderson Ltd</td>\n      <td>6011539787356311</td>\n      <td>05/21</td>\n      <td>1</td>\n      <td>VISA 16 digit</td>\n      <td>tyler16@gmail.com</td>\n      <td>Veterinary surgeon</td>\n      <td>156.210.0.254</td>\n      <td>el</td>\n      <td>83.98</td>\n    </tr>\n    <tr>\n      <th>9998</th>\n      <td>0096 English Rest\\nRoystad, IA 12457</td>\n      <td>74 cL</td>\n      <td>PM</td>\n      <td>Mozilla/5.0 (Macintosh; Intel Mac OS X 10_8_8;...</td>\n      <td>Cook Inc</td>\n      <td>180003348082930</td>\n      <td>11/17</td>\n      <td>987</td>\n      <td>American Express</td>\n      <td>elizabethmoore@reid.net</td>\n      <td>Local government officer</td>\n      <td>55.78.26.143</td>\n      <td>es</td>\n      <td>38.84</td>\n    </tr>\n    <tr>\n      <th>9999</th>\n      <td>40674 Barrett Stravenue\\nGrimesville, WI 79682</td>\n      <td>64 Hr</td>\n      <td>AM</td>\n      <td>Mozilla/5.0 (X11; Linux i686; rv:1.9.5.20) Gec...</td>\n      <td>Greene Inc</td>\n      <td>4139972901927273</td>\n      <td>02/19</td>\n      <td>302</td>\n      <td>JCB 15 digit</td>\n      <td>rachelford@vaughn.com</td>\n      <td>Embryologist, clinical</td>\n      <td>176.119.198.199</td>\n      <td>el</td>\n      <td>67.59</td>\n    </tr>\n  </tbody>\n</table>\n</div>"
          },
          "metadata": {}
        }
      ],
      "execution_count": 3
    },
    {
      "cell_type": "code",
      "source": "df.dtypes",
      "metadata": {
        "trusted": true
      },
      "outputs": [
        {
          "execution_count": 24,
          "output_type": "execute_result",
          "data": {
            "text/plain": "Address              object\nLot                  object\nAM or PM             object\nBrowser Info         object\nCompany              object\nCredit Card           int64\nCC Exp Date          object\nCC Security Code      int64\nCC Provider          object\nEmail                object\nJob                  object\nIP Address           object\nLanguage             object\nPurchase Price      float64\ndtype: object"
          },
          "metadata": {}
        }
      ],
      "execution_count": 24
    },
    {
      "cell_type": "code",
      "source": "df.isnull()",
      "metadata": {
        "trusted": true
      },
      "outputs": [
        {
          "execution_count": 26,
          "output_type": "execute_result",
          "data": {
            "text/plain": "      Address    Lot  AM or PM  Browser Info  Company  Credit Card  \\\n0       False  False     False         False    False        False   \n1       False  False     False         False    False        False   \n2       False  False     False         False    False        False   \n3       False  False     False         False    False        False   \n4       False  False     False         False    False        False   \n...       ...    ...       ...           ...      ...          ...   \n9995    False  False     False         False    False        False   \n9996    False  False     False         False    False        False   \n9997    False  False     False         False    False        False   \n9998    False  False     False         False    False        False   \n9999    False  False     False         False    False        False   \n\n      CC Exp Date  CC Security Code  CC Provider  Email    Job  IP Address  \\\n0           False             False        False  False  False       False   \n1           False             False        False  False  False       False   \n2           False             False        False  False  False       False   \n3           False             False        False  False  False       False   \n4           False             False        False  False  False       False   \n...           ...               ...          ...    ...    ...         ...   \n9995        False             False        False  False  False       False   \n9996        False             False        False  False  False       False   \n9997        False             False        False  False  False       False   \n9998        False             False        False  False  False       False   \n9999        False             False        False  False  False       False   \n\n      Language  Purchase Price  \n0        False           False  \n1        False           False  \n2        False           False  \n3        False           False  \n4        False           False  \n...        ...             ...  \n9995     False           False  \n9996     False           False  \n9997     False           False  \n9998     False           False  \n9999     False           False  \n\n[10000 rows x 14 columns]",
            "text/html": "<div>\n<style scoped>\n    .dataframe tbody tr th:only-of-type {\n        vertical-align: middle;\n    }\n\n    .dataframe tbody tr th {\n        vertical-align: top;\n    }\n\n    .dataframe thead th {\n        text-align: right;\n    }\n</style>\n<table border=\"1\" class=\"dataframe\">\n  <thead>\n    <tr style=\"text-align: right;\">\n      <th></th>\n      <th>Address</th>\n      <th>Lot</th>\n      <th>AM or PM</th>\n      <th>Browser Info</th>\n      <th>Company</th>\n      <th>Credit Card</th>\n      <th>CC Exp Date</th>\n      <th>CC Security Code</th>\n      <th>CC Provider</th>\n      <th>Email</th>\n      <th>Job</th>\n      <th>IP Address</th>\n      <th>Language</th>\n      <th>Purchase Price</th>\n    </tr>\n  </thead>\n  <tbody>\n    <tr>\n      <th>0</th>\n      <td>False</td>\n      <td>False</td>\n      <td>False</td>\n      <td>False</td>\n      <td>False</td>\n      <td>False</td>\n      <td>False</td>\n      <td>False</td>\n      <td>False</td>\n      <td>False</td>\n      <td>False</td>\n      <td>False</td>\n      <td>False</td>\n      <td>False</td>\n    </tr>\n    <tr>\n      <th>1</th>\n      <td>False</td>\n      <td>False</td>\n      <td>False</td>\n      <td>False</td>\n      <td>False</td>\n      <td>False</td>\n      <td>False</td>\n      <td>False</td>\n      <td>False</td>\n      <td>False</td>\n      <td>False</td>\n      <td>False</td>\n      <td>False</td>\n      <td>False</td>\n    </tr>\n    <tr>\n      <th>2</th>\n      <td>False</td>\n      <td>False</td>\n      <td>False</td>\n      <td>False</td>\n      <td>False</td>\n      <td>False</td>\n      <td>False</td>\n      <td>False</td>\n      <td>False</td>\n      <td>False</td>\n      <td>False</td>\n      <td>False</td>\n      <td>False</td>\n      <td>False</td>\n    </tr>\n    <tr>\n      <th>3</th>\n      <td>False</td>\n      <td>False</td>\n      <td>False</td>\n      <td>False</td>\n      <td>False</td>\n      <td>False</td>\n      <td>False</td>\n      <td>False</td>\n      <td>False</td>\n      <td>False</td>\n      <td>False</td>\n      <td>False</td>\n      <td>False</td>\n      <td>False</td>\n    </tr>\n    <tr>\n      <th>4</th>\n      <td>False</td>\n      <td>False</td>\n      <td>False</td>\n      <td>False</td>\n      <td>False</td>\n      <td>False</td>\n      <td>False</td>\n      <td>False</td>\n      <td>False</td>\n      <td>False</td>\n      <td>False</td>\n      <td>False</td>\n      <td>False</td>\n      <td>False</td>\n    </tr>\n    <tr>\n      <th>...</th>\n      <td>...</td>\n      <td>...</td>\n      <td>...</td>\n      <td>...</td>\n      <td>...</td>\n      <td>...</td>\n      <td>...</td>\n      <td>...</td>\n      <td>...</td>\n      <td>...</td>\n      <td>...</td>\n      <td>...</td>\n      <td>...</td>\n      <td>...</td>\n    </tr>\n    <tr>\n      <th>9995</th>\n      <td>False</td>\n      <td>False</td>\n      <td>False</td>\n      <td>False</td>\n      <td>False</td>\n      <td>False</td>\n      <td>False</td>\n      <td>False</td>\n      <td>False</td>\n      <td>False</td>\n      <td>False</td>\n      <td>False</td>\n      <td>False</td>\n      <td>False</td>\n    </tr>\n    <tr>\n      <th>9996</th>\n      <td>False</td>\n      <td>False</td>\n      <td>False</td>\n      <td>False</td>\n      <td>False</td>\n      <td>False</td>\n      <td>False</td>\n      <td>False</td>\n      <td>False</td>\n      <td>False</td>\n      <td>False</td>\n      <td>False</td>\n      <td>False</td>\n      <td>False</td>\n    </tr>\n    <tr>\n      <th>9997</th>\n      <td>False</td>\n      <td>False</td>\n      <td>False</td>\n      <td>False</td>\n      <td>False</td>\n      <td>False</td>\n      <td>False</td>\n      <td>False</td>\n      <td>False</td>\n      <td>False</td>\n      <td>False</td>\n      <td>False</td>\n      <td>False</td>\n      <td>False</td>\n    </tr>\n    <tr>\n      <th>9998</th>\n      <td>False</td>\n      <td>False</td>\n      <td>False</td>\n      <td>False</td>\n      <td>False</td>\n      <td>False</td>\n      <td>False</td>\n      <td>False</td>\n      <td>False</td>\n      <td>False</td>\n      <td>False</td>\n      <td>False</td>\n      <td>False</td>\n      <td>False</td>\n    </tr>\n    <tr>\n      <th>9999</th>\n      <td>False</td>\n      <td>False</td>\n      <td>False</td>\n      <td>False</td>\n      <td>False</td>\n      <td>False</td>\n      <td>False</td>\n      <td>False</td>\n      <td>False</td>\n      <td>False</td>\n      <td>False</td>\n      <td>False</td>\n      <td>False</td>\n      <td>False</td>\n    </tr>\n  </tbody>\n</table>\n<p>10000 rows × 14 columns</p>\n</div>"
          },
          "metadata": {}
        }
      ],
      "execution_count": 26
    },
    {
      "cell_type": "code",
      "source": "print('Number of Rows',df.shape[0])\nprint('number of columns',df.shape[1])",
      "metadata": {
        "trusted": true
      },
      "outputs": [
        {
          "name": "stdout",
          "text": "Number of Rows 10000\nnumber of columns 14\n",
          "output_type": "stream"
        }
      ],
      "execution_count": 9
    },
    {
      "cell_type": "code",
      "source": "df['Purchase Price'].max()",
      "metadata": {
        "trusted": true
      },
      "outputs": [
        {
          "execution_count": 34,
          "output_type": "execute_result",
          "data": {
            "text/plain": "99.99"
          },
          "metadata": {}
        }
      ],
      "execution_count": 34
    },
    {
      "cell_type": "code",
      "source": "df['Purchase Price'].min()",
      "metadata": {
        "trusted": true
      },
      "outputs": [
        {
          "execution_count": 33,
          "output_type": "execute_result",
          "data": {
            "text/plain": "0.0"
          },
          "metadata": {}
        }
      ],
      "execution_count": 33
    },
    {
      "cell_type": "code",
      "source": "df['Purchase Price'].mean()\n",
      "metadata": {
        "trusted": true
      },
      "outputs": [
        {
          "execution_count": 29,
          "output_type": "execute_result",
          "data": {
            "text/plain": "50.347302"
          },
          "metadata": {}
        }
      ],
      "execution_count": 29
    },
    {
      "cell_type": "code",
      "source": "len(df[df['Language'] == 'fr'])",
      "metadata": {
        "trusted": true
      },
      "outputs": [
        {
          "execution_count": 21,
          "output_type": "execute_result",
          "data": {
            "text/plain": "1097"
          },
          "metadata": {}
        }
      ],
      "execution_count": 21
    },
    {
      "cell_type": "code",
      "source": "len(df[df['Job'] == 'engineer'])",
      "metadata": {
        "trusted": true
      },
      "outputs": [
        {
          "execution_count": 22,
          "output_type": "execute_result",
          "data": {
            "text/plain": "0"
          },
          "metadata": {}
        }
      ],
      "execution_count": 22
    },
    {
      "cell_type": "code",
      "source": "",
      "metadata": {
        "trusted": true
      },
      "outputs": [],
      "execution_count": null
    }
  ]
}